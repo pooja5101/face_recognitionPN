{
  "nbformat": 4,
  "nbformat_minor": 0,
  "metadata": {
    "colab": {
      "name": "Untitled2.ipynb",
      "provenance": [],
      "authorship_tag": "ABX9TyOW/6yEIc8WJmy/KJ6JMKUG",
      "include_colab_link": true
    },
    "kernelspec": {
      "name": "python3",
      "display_name": "Python 3"
    },
    "language_info": {
      "name": "python"
    }
  },
  "cells": [
    {
      "cell_type": "markdown",
      "metadata": {
        "id": "view-in-github",
        "colab_type": "text"
      },
      "source": [
        "<a href=\"https://colab.research.google.com/github/pooja5101/face_recognitionPN/blob/main/faceReco1845.ipynb\" target=\"_parent\"><img src=\"https://colab.research.google.com/assets/colab-badge.svg\" alt=\"Open In Colab\"/></a>"
      ]
    },
    {
      "cell_type": "code",
      "metadata": {
        "id": "ciK5qWkkKqel"
      },
      "source": [
        "!pip install face_recognition"
      ],
      "execution_count": null,
      "outputs": []
    },
    {
      "cell_type": "code",
      "metadata": {
        "id": "4OAENyRXKu6e"
      },
      "source": [
        "!mkdir known\n",
        "!wget https://upload.wikimedia.org/wikipedia/commons/thumb/8/85/Elon_Musk_Royal_Society_%28crop1%29.jpg/330px-Elon_Musk_Royal_Society_%28crop1%29.jpg -o known/elon.jpg\n",
        "!wget https://content.fortune.com/wp-content/uploads/2020/09/CNV.10.20.FORTUNE_BILL_AND_MELINDA_GATES_030-vertical.jpg?resize=1368,2052 -o known/BillGates.jpg\n",
        "!wget https://thumbor.forbes.com/thumbor/fit-in/416x416/filters%3Aformat%28jpg%29/https%3A%2F%2Fspecials-images.forbesimg.com%2Fimageserve%2F5c76b7d331358e35dd2773a9%2F0x0.jpg%3Fbackground%3D000000%26cropX1%3D0%26cropX2%3D4401%26cropY1%3D0%26cropY2%3D4401 -o known/Mark.jpg\n"
      ],
      "execution_count": null,
      "outputs": []
    },
    {
      "cell_type": "code",
      "metadata": {
        "id": "bxoD1XUaKxxk"
      },
      "source": [
        "!mkdir unknown\n",
        "!wget https://www.biography.com/.image/ar_1:1%2Cc_fill%2Ccs_srgb%2Cg_face%2Cq_auto:good%2Cw_300/MTc5OTk2ODUyMTMxNzM0ODcy/gettyimages-1229892983-square.jpg -o unknown/1.jpg\n",
        "!wget https://miro.medium.com/max/875/0*BZozMqaLtvMdU5kJ.jpeg -o unknown/2.jpg\n",
        "!wget https://www.biography.com/.image/ar_1:1%2Cc_fill%2Ccs_srgb%2Cg_face%2Cq_auto:good%2Cw_300/MTgwMTc5MTIxNDE2OTcxNjA4/gettyimages-1165301142.jpg -o unknown/3.jpg\n",
        "!wget https://www.biography.com/.image/ar_1:1%2Cc_fill%2Ccs_srgb%2Cg_face%2Cq_auto:good%2Cw_300/MTQyMDA0NDgwMzUzNzcyNjA2/mark-zuckerberg_gettyimages-512304736jpg.jpg -o unknown/4.jpg\n"
      ],
      "execution_count": null,
      "outputs": []
    },
    {
      "cell_type": "code",
      "metadata": {
        "id": "mqoiQIRAK1wt"
      },
      "source": [
        "import face_recognition\n",
        "import cv2\n",
        "import os\n",
        "from google.colab.patches import cv2_imshow\n",
        "\n",
        "\n",
        "def read_img(path):\n",
        "  img = cv2.imread(path)\n",
        "  (h, w) = img.shape[:2]\n",
        "  width = 500\n",
        "  ratio = width/float(w)\n",
        "  height = int(h*ratio)\n",
        "  return cv2.resize(img,(height, width))\n",
        "\n",
        "  known_encodings = []\n",
        "  known_names = []\n",
        "  known_dir = 'known'\n",
        "\n",
        "  for file in os.listdir(known_dir):\n",
        "    img = read_img(known_dir + '/' + file)\n",
        "    img_enc = face_recognition.face_encodings(img)[0]\n",
        "    known_encodings.append(img_enc)\n",
        "    known_names.append(file.split('.')[0])\n",
        "\n",
        "  unknown_dir = 'unknown'\n",
        "  for file in os.listdir(unknown_dir):\n",
        "    print(\"processing\", file)\n",
        "    img = read_img(unknown_dir+'/'+file)\n",
        "    img_enc = face_recognition.face_encodings(img)[0]\n",
        "\n",
        "    results = face_recognition.compare_faces(known_encodings, img_enc)\n",
        "    #print(face_recognition.face_distance(known_encodings,img_enc))\n",
        "    for i in range(len(results)):\n",
        "       if results[i]:\n",
        "        name = known_names[i]\n",
        "        (top, right, bottom, left) = face_recognition.face_locations(img)[0]\n",
        "        cv2.rectangle(img, (left,top), (right, bottom), (0, 0, 255), 2)\n",
        "        cv2.putText(img, name, (left+2, bottom+20), cv2.FONT_HERSHEY_PLAIN, 0.8, (255, 255, 255), 1)\n",
        "        cv2_imshow(img)\n",
        "        \n",
        "\n",
        "    print(results)"
      ],
      "execution_count": null,
      "outputs": []
    }
  ]
}