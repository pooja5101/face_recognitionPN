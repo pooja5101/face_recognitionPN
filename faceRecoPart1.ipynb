{
  "nbformat": 4,
  "nbformat_minor": 0,
  "metadata": {
    "colab": {
      "name": "Untitled1.ipynb",
      "provenance": [],
      "authorship_tag": "ABX9TyPvGs11XM39sv1q06dAYM3m",
      "include_colab_link": true
    },
    "kernelspec": {
      "name": "python3",
      "display_name": "Python 3"
    },
    "language_info": {
      "name": "python"
    },
    "accelerator": "GPU"
  },
  "cells": [
    {
      "cell_type": "markdown",
      "metadata": {
        "id": "view-in-github",
        "colab_type": "text"
      },
      "source": [
        "<a href=\"https://colab.research.google.com/github/pooja5101/face_recognitionPN/blob/main/faceRecoPart1.ipynb\" target=\"_parent\"><img src=\"https://colab.research.google.com/assets/colab-badge.svg\" alt=\"Open In Colab\"/></a>"
      ]
    },
    {
      "cell_type": "code",
      "metadata": {
        "colab": {
          "base_uri": "https://localhost:8080/",
          "height": 229
        },
        "id": "nNWkwqMbY30R",
        "outputId": "982f558e-a977-4866-dd33-3dc6cc515b3a"
      },
      "source": [
        "import sys\n",
        "import dlib\n",
        "from skimage import io\n",
        "\n",
        "# Take the image file name from the command line\n",
        "file_name = sys.argv[1]\n",
        "\n",
        "# Create a HOG face detector using the built-in dlib class\n",
        "face_detector = dlib.get_frontal_face_detector()\n",
        "\n",
        "win = dlib.image_window()\n",
        "\n",
        "# Load the image into an array\n",
        "image = io.imread(file_name)\n",
        "\n",
        "# Run the HOG face detector on the image data.\n",
        "# The result will be the bounding boxes of the faces in our image.\n",
        "detected_faces = face_detector(image, 1)\n",
        "\n",
        "print(\"I found {} faces in the file {}\".format(len(detected_faces), file_name))\n",
        "\n",
        "# Open a window on the desktop showing the image\n",
        "win.set_image(image)\n",
        "\n",
        "# Loop through each face we found in the image\n",
        "for i, face_rect in enumerate(detected_faces):\n",
        "\n",
        "\t# Detected faces are returned as an object with the coordinates \n",
        "\t# of the top, left, right and bottom edges\n",
        "\tprint(\"- Face #{} found at Left: {} Top: {} Right: {} Bottom: {}\".format(i, face_rect.left(), face_rect.top(), face_rect.right(), face_rect.bottom()))\n",
        "\n",
        "\t# Draw a box around each face we found\n",
        "\twin.add_overlay(face_rect)\n",
        "\t        \n",
        "# Wait until the user hits <enter> to close the window\t        \n",
        "dlib.hit_enter_to_continue()"
      ],
      "execution_count": 1,
      "outputs": [
        {
          "output_type": "error",
          "ename": "RuntimeError",
          "evalue": "ignored",
          "traceback": [
            "\u001b[0;31m---------------------------------------------------------------------------\u001b[0m",
            "\u001b[0;31mRuntimeError\u001b[0m                              Traceback (most recent call last)",
            "\u001b[0;32m<ipython-input-1-c96bbb2b2c07>\u001b[0m in \u001b[0;36m<module>\u001b[0;34m()\u001b[0m\n\u001b[1;32m      9\u001b[0m \u001b[0mface_detector\u001b[0m \u001b[0;34m=\u001b[0m \u001b[0mdlib\u001b[0m\u001b[0;34m.\u001b[0m\u001b[0mget_frontal_face_detector\u001b[0m\u001b[0;34m(\u001b[0m\u001b[0;34m)\u001b[0m\u001b[0;34m\u001b[0m\u001b[0;34m\u001b[0m\u001b[0m\n\u001b[1;32m     10\u001b[0m \u001b[0;34m\u001b[0m\u001b[0m\n\u001b[0;32m---> 11\u001b[0;31m \u001b[0mwin\u001b[0m \u001b[0;34m=\u001b[0m \u001b[0mdlib\u001b[0m\u001b[0;34m.\u001b[0m\u001b[0mimage_window\u001b[0m\u001b[0;34m(\u001b[0m\u001b[0;34m)\u001b[0m\u001b[0;34m\u001b[0m\u001b[0;34m\u001b[0m\u001b[0m\n\u001b[0m\u001b[1;32m     12\u001b[0m \u001b[0;34m\u001b[0m\u001b[0m\n\u001b[1;32m     13\u001b[0m \u001b[0;31m# Load the image into an array\u001b[0m\u001b[0;34m\u001b[0m\u001b[0;34m\u001b[0m\u001b[0;34m\u001b[0m\u001b[0m\n",
            "\u001b[0;31mRuntimeError\u001b[0m: Failed to initialize X11 resources"
          ]
        }
      ]
    }
  ]
}